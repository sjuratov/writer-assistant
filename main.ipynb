{
 "cells": [
  {
   "cell_type": "markdown",
   "metadata": {},
   "source": [
    "#### Imports necessary modules and functions for document analysis and creation, and for displaying results in Markdown format within a Jupyter Notebook."
   ]
  },
  {
   "cell_type": "code",
   "execution_count": 1,
   "metadata": {},
   "outputs": [],
   "source": [
    "import os\n",
    "\n",
    "from src.modules.analyze_document_use_document_intelligence import analyze_documents_output_in_markdown\n",
    "from src.modules.write_assistant import create_document\n",
    "\n",
    "from IPython.display import display, Markdown"
   ]
  },
  {
   "cell_type": "markdown",
   "metadata": {},
   "source": [
    "#### Defines a function to write an abstract to a file within a directory named \"abstracts\". If the directory does not exist, it is created. Errors during file operations are caught and displayed."
   ]
  },
  {
   "cell_type": "code",
   "execution_count": 2,
   "metadata": {},
   "outputs": [],
   "source": [
    "def write_abstract_to_file(abstract, file_name):\n",
    "    # Check if the abstracts directory exists, if not create it\n",
    "    abstracts_directory = \"abstracts\"\n",
    "    if not os.path.exists(abstracts_directory):\n",
    "        os.makedirs(abstracts_directory)\n",
    "\n",
    "    try:\n",
    "        with open(f\"{abstracts_directory}/{file_name}\", \"w\") as abstract_file:\n",
    "            abstract_file.write(abstract)\n",
    "    except Exception as error:\n",
    "        print(f\"An error occurred: {error}\")\n",
    "        raise"
   ]
  },
  {
   "cell_type": "code",
   "execution_count": 3,
   "metadata": {},
   "outputs": [],
   "source": [
    "document = \"documents/s41586-024-07701-9.pdf\""
   ]
  },
  {
   "cell_type": "code",
   "execution_count": 4,
   "metadata": {},
   "outputs": [
    {
     "name": "stdout",
     "output_type": "stream",
     "text": [
      "Analyzing following document --> documents/s41586-024-07701-9.pdf\n"
     ]
    }
   ],
   "source": [
    "print(f\"Analyzing following document --> {document}\")"
   ]
  },
  {
   "cell_type": "markdown",
   "metadata": {},
   "source": [
    "#### Attempts to analyze a document and output its analysis in Markdown format. If an error occurs, it prints the error message and re-raises the exception."
   ]
  },
  {
   "cell_type": "code",
   "execution_count": 5,
   "metadata": {},
   "outputs": [],
   "source": [
    "try:\n",
    "    result = analyze_documents_output_in_markdown(document)\n",
    "except Exception as error:\n",
    "    print(f\"An error occurred: {error}\")\n",
    "    raise"
   ]
  },
  {
   "cell_type": "markdown",
   "metadata": {},
   "source": [
    "#### Tries to create a document with the given content. If an error occurs, it prints the error message and re-raises the exception."
   ]
  },
  {
   "cell_type": "code",
   "execution_count": 6,
   "metadata": {},
   "outputs": [],
   "source": [
    "try:\n",
    "    result = create_document(result.content)\n",
    "except Exception as error:\n",
    "    print(f\"An error occurred: {error}\")\n",
    "    raise"
   ]
  },
  {
   "cell_type": "code",
   "execution_count": 7,
   "metadata": {},
   "outputs": [
    {
     "data": {
      "text/markdown": [
       "## Inhibition of IL-11 Signalling Extends Mammalian Healthspan and Lifespan\n",
       "\n",
       "### Background\n",
       "Ageing is a complex biological process characterized by the progressive decline in physiological functions and increased susceptibility to diseases. Key signalling pathways such as ERK, AMPK, and mTORC1 play crucial roles in regulating lifespan and healthspan across species. Chronic inflammation is a hallmark of ageing, contributing to various age-related pathologies. Interleukin-11 (IL-11), a pro-inflammatory cytokine of the IL-6 family, has been implicated in several fibrotic and inflammatory conditions. However, its role in ageing and lifespan has not been extensively studied.\n",
       "\n",
       "### Purpose\n",
       "This study aimed to investigate the impact of IL-11 signalling on ageing and lifespan in mammals. By employing genetic and pharmacological approaches, the researchers sought to determine whether inhibiting IL-11 could mitigate age-associated pathologies, improve healthspan, and extend lifespan in mice.\n",
       "\n",
       "### Particular Interest/Focus of Paper\n",
       "The primary focus of this research was to explore the role of IL-11 in modulating key ageing pathways and its potential as a therapeutic target for extending healthspan and lifespan. The study examined the effects of IL-11 inhibition on metabolic health, muscle function, inflammation, and biomarkers of ageing in both male and female mice.\n",
       "\n",
       "### Overview of Contents\n",
       "#### IL-11 Upregulation with Age\n",
       "The study began by assessing IL-11 expression in various tissues of ageing mice. It was found that IL-11 levels increased with age in the liver, visceral gonadal white adipose tissue (vWAT), and skeletal muscle. This upregulation was associated with the activation of the ERK-mTORC1 axis and the inactivation of the LKB1-AMPK pathway, contributing to cellular senescence and metabolic decline.\n",
       "\n",
       "#### Genetic Deletion of IL-11 and IL-11 Receptor\n",
       "To investigate the effects of IL-11 inhibition, the researchers used mice genetically modified to lack IL-11 (Il11-/-) or its receptor (Il11ra1-/-). These mice exhibited significant improvements in metabolic health, reduced frailty, and lower levels of ageing biomarkers compared to wild-type controls. Notably, the deletion of IL-11 or its receptor led to a substantial extension of lifespan in both male and female mice.\n",
       "\n",
       "#### Pharmacological Inhibition of IL-11\n",
       "The study also explored the effects of pharmacological inhibition of IL-11 in aged mice. Mice treated with an anti-IL-11 antibody (X203) from 75 weeks of age showed improved metabolism, enhanced muscle function, and reduced frailty. This treatment also extended the median lifespan of male and female mice by approximately 22.5% and 25%, respectively.\n",
       "\n",
       "#### Mechanistic Insights\n",
       "Further mechanistic studies revealed that IL-11 promotes cellular senescence and the senescence-associated secretory phenotype (SASP) in human cells. IL-11 stimulation activated the ERK-mTORC1 pathway, increased levels of senescence markers (p16 and p21), and reduced the expression of proliferation markers (PCNA and cyclin D1). These effects were mitigated by inhibitors of ERK (U0126) and mTOR (rapamycin).\n",
       "\n",
       "#### Metabolic and Inflammatory Profiles\n",
       "The researchers observed that IL-11 inhibition led to lower body weights, reduced fat mass, and preserved lean mass in aged mice. Additionally, IL-11 inhibition improved glucose tolerance, reduced liver triglyceride levels, and decreased serum cholesterol and triglycerides. The expression of pro-inflammatory genes and markers of liver damage was also significantly reduced in IL-11-inhibited mice.\n",
       "\n",
       "#### Lifespan Extension and Cancer Incidence\n",
       "Lifespan studies demonstrated that both genetic deletion and pharmacological inhibition of IL-11 significantly extended the lifespan of mice. The researchers also noted a lower incidence of macroscopic tumors in IL-11-inhibited mice, suggesting a potential role of IL-11 in age-related cancer development.\n",
       "\n",
       "### Conclusion\n",
       "This study provides compelling evidence that IL-11 plays a detrimental role in ageing and lifespan regulation. Inhibiting IL-11 signalling improves metabolic health, reduces inflammation, and extends both healthspan and lifespan in mice. These findings highlight IL-11 as a promising therapeutic target for mitigating age-related pathologies and promoting healthy ageing in humans. The ongoing clinical trials of anti-IL-11 therapy for fibrotic lung disease may offer a translational opportunity to explore its effects on ageing and lifespan in older individuals."
      ],
      "text/plain": [
       "<IPython.core.display.Markdown object>"
      ]
     },
     "metadata": {},
     "output_type": "display_data"
    }
   ],
   "source": [
    "display(Markdown(result.choices[0].message.content))"
   ]
  },
  {
   "cell_type": "markdown",
   "metadata": {},
   "source": [
    "#### Attempts to extract the file name from a document, create an abstract file name, and write the abstract to a file. If an error occurs, it prints the error message and re-raises the exception."
   ]
  },
  {
   "cell_type": "code",
   "execution_count": 8,
   "metadata": {},
   "outputs": [
    {
     "name": "stdout",
     "output_type": "stream",
     "text": [
      "Saved the abstract to abstracts/abstract_s41586-024-07701-9.md\n"
     ]
    }
   ],
   "source": [
    "try:\n",
    "    file_name_without_extension = os.path.splitext(os.path.basename(document))[0]\n",
    "    abstract_file_name = f\"abstract_{file_name_without_extension}.md\"\n",
    "    write_abstract_to_file(result.choices[0].message.content, abstract_file_name)\n",
    "    print(f\"Saved the abstract to abstracts/{abstract_file_name}\")\n",
    "except Exception as error:\n",
    "    print(f\"An error occurred: {error}\")\n",
    "    raise"
   ]
  }
 ],
 "metadata": {
  "kernelspec": {
   "display_name": ".venv",
   "language": "python",
   "name": "python3"
  },
  "language_info": {
   "codemirror_mode": {
    "name": "ipython",
    "version": 3
   },
   "file_extension": ".py",
   "mimetype": "text/x-python",
   "name": "python",
   "nbconvert_exporter": "python",
   "pygments_lexer": "ipython3",
   "version": "3.12.2"
  }
 },
 "nbformat": 4,
 "nbformat_minor": 2
}
