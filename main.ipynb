{
 "cells": [
  {
   "cell_type": "markdown",
   "metadata": {},
   "source": [
    "#### Imports necessary modules and functions for document analysis and creation, and for displaying results in Markdown format within a Jupyter Notebook."
   ]
  },
  {
   "cell_type": "code",
   "execution_count": 1,
   "metadata": {},
   "outputs": [],
   "source": [
    "import os\n",
    "\n",
    "from analyze_document_use_document_intelligence import analyze_documents_output_in_markdown\n",
    "from write_assistant import create_document\n",
    "\n",
    "from IPython.display import display, Markdown"
   ]
  },
  {
   "cell_type": "markdown",
   "metadata": {},
   "source": [
    "#### Defines a function to write an abstract to a file within a directory named \"abstracts\". If the directory does not exist, it is created. Errors during file operations are caught and displayed."
   ]
  },
  {
   "cell_type": "code",
   "execution_count": 2,
   "metadata": {},
   "outputs": [],
   "source": [
    "def write_abstract_to_file(abstract, file_name):\n",
    "    # Check if the abstracts directory exists, if not create it\n",
    "    abstracts_directory = \"abstracts\"\n",
    "    if not os.path.exists(abstracts_directory):\n",
    "        os.makedirs(abstracts_directory)\n",
    "\n",
    "    try:\n",
    "        with open(f\"{abstracts_directory}/{file_name}\", \"w\") as abstract_file:\n",
    "            abstract_file.write(abstract)\n",
    "    except Exception as error:\n",
    "        print(f\"An error occurred: {error}\")\n",
    "        raise"
   ]
  },
  {
   "cell_type": "code",
   "execution_count": 3,
   "metadata": {},
   "outputs": [],
   "source": [
    "document = \"documents/s41586-024-07701-9.pdf\""
   ]
  },
  {
   "cell_type": "code",
   "execution_count": 4,
   "metadata": {},
   "outputs": [
    {
     "name": "stdout",
     "output_type": "stream",
     "text": [
      "Analyzing following document --> documents/s41586-024-07701-9.pdf\n"
     ]
    }
   ],
   "source": [
    "print(f\"Analyzing following document --> {document}\")"
   ]
  },
  {
   "cell_type": "markdown",
   "metadata": {},
   "source": [
    "#### Attempts to analyze a document and output its analysis in Markdown format. If an error occurs, it prints the error message and re-raises the exception."
   ]
  },
  {
   "cell_type": "code",
   "execution_count": 5,
   "metadata": {},
   "outputs": [],
   "source": [
    "try:\n",
    "    result = analyze_documents_output_in_markdown(document)\n",
    "except Exception as error:\n",
    "    print(f\"An error occurred: {error}\")\n",
    "    raise"
   ]
  },
  {
   "cell_type": "markdown",
   "metadata": {},
   "source": [
    "#### Tries to create a document with the given content. If an error occurs, it prints the error message and re-raises the exception."
   ]
  },
  {
   "cell_type": "code",
   "execution_count": 6,
   "metadata": {},
   "outputs": [],
   "source": [
    "try:\n",
    "    result = create_document(result.content)\n",
    "except Exception as error:\n",
    "    print(f\"An error occurred: {error}\")\n",
    "    raise"
   ]
  },
  {
   "cell_type": "code",
   "execution_count": 7,
   "metadata": {},
   "outputs": [
    {
     "data": {
      "text/markdown": [
       "## Inhibition of IL-11 Signalling Extends Mammalian Healthspan and Lifespan\n",
       "\n",
       "### Background\n",
       "Aging is a complex biological process characterized by the gradual decline in physiological functions, leading to increased susceptibility to diseases and ultimately death. Key signaling pathways such as ERK, AMPK, and mTORC1 play crucial roles in regulating lifespan and healthspan across various species. Inflammation is a central hallmark of aging, contributing to age-associated diseases and metabolic decline. Interleukin-11 (IL-11), a pro-inflammatory cytokine of the IL-6 family, has been implicated in various age-related pathologies. This study explores the role of IL-11 in aging and investigates whether inhibiting IL-11 signaling can extend healthspan and lifespan in mammals.\n",
       "\n",
       "### Purpose\n",
       "The primary objective of this research was to determine the impact of IL-11 on age-associated diseases and lifespan. The study aimed to evaluate whether genetic deletion or pharmacological inhibition of IL-11 could mitigate aging-related pathologies, improve metabolic health, and extend lifespan in mice. By understanding the role of IL-11 in aging, the research sought to identify potential therapeutic targets for extending healthspan and lifespan in humans.\n",
       "\n",
       "### Particular Interest/Focus of Paper\n",
       "The study focused on the following key areas:\n",
       "1. **IL-11 Expression with Age**: Investigating the upregulation of IL-11 in various tissues and cell types as mice age.\n",
       "2. **Impact on Metabolic Health**: Assessing the effects of IL-11 deletion on metabolic parameters, including body weight, fat mass, lean mass, and glucose metabolism.\n",
       "3. **Senescence and Inflammation**: Exploring the relationship between IL-11 signaling, cellular senescence, and inflammation.\n",
       "4. **Lifespan Extension**: Evaluating the impact of genetic deletion and pharmacological inhibition of IL-11 on the lifespan of male and female mice.\n",
       "5. **Translational Potential**: Considering the potential of anti-IL-11 therapy for treating age-related diseases in humans.\n",
       "\n",
       "### Overview of Contents\n",
       "#### IL-11 is Upregulated with Age\n",
       "The study found that IL-11 expression increases with age in various tissues, including the liver, visceral gonadal white adipose tissue (vWAT), and skeletal muscle. This upregulation was associated with the activation of the ERK-AMPK-mTORC1 signaling axis, which plays a critical role in metabolic health and aging.\n",
       "\n",
       "#### IL-11 and Senescence\n",
       "IL-11 was shown to induce cellular senescence in human fibroblasts and hepatocytes by activating ERK-mTOR signaling and increasing the levels of senescence markers p16 and p21. This effect was mitigated by inhibitors of ERK and mTOR, suggesting that IL-11 promotes senescence through these pathways.\n",
       "\n",
       "#### Deletion of Il11ra1 Improves Metabolism\n",
       "Mice lacking the IL-11 receptor (Il11ra1) exhibited improved metabolic health, including lower body weight, reduced fat mass, and increased lean mass. These mice also showed better glucose tolerance and insulin sensitivity, along with lower levels of pro-inflammatory and fatty acid synthesis genes in the liver.\n",
       "\n",
       "#### Lifespan Extension\n",
       "Genetic deletion of Il11 extended the lifespan of both male and female mice. Mice treated with an anti-IL-11 antibody from 75 weeks of age until death also showed significant lifespan extension. The median lifespan of treated mice increased by approximately 22.5% in males and 25% in females.\n",
       "\n",
       "#### Anti-IL-11 Therapy in Old Mice\n",
       "Administration of an anti-IL-11 antibody to aged mice improved various healthspan indices, including muscle strength, metabolic flexibility, and reduced frailty. The therapy also decreased serum cholesterol, triglycerides, and markers of liver damage, while increasing core body temperature and food intake.\n",
       "\n",
       "#### Molecular Mechanisms\n",
       "RNA sequencing of vWAT, liver, and skeletal muscle from treated mice revealed significant upregulation of genes associated with oxidative phosphorylation and metabolism, and downregulation of inflammatory markers. The study also identified a beiging program in white adipose tissue, characterized by increased expression of thermogenic genes such as Ucp1.\n",
       "\n",
       "#### Translational Potential\n",
       "The findings suggest that IL-11 plays a critical role in aging and age-related diseases. Anti-IL-11 therapy, currently in early-stage clinical trials for fibrotic lung disease, may offer a promising approach for extending healthspan and lifespan in humans. The study highlights the potential of targeting IL-11 to mitigate chronic inflammation, senescence, and metabolic decline associated with aging.\n",
       "\n",
       "### Conclusion\n",
       "This research demonstrates that IL-11 is a key regulator of aging and age-associated diseases. Inhibiting IL-11 signaling through genetic deletion or pharmacological intervention can significantly improve metabolic health, reduce inflammation and senescence, and extend lifespan in mice. These findings provide a strong foundation for exploring anti-IL-11 therapy as a potential treatment for extending healthspan and lifespan in humans."
      ],
      "text/plain": [
       "<IPython.core.display.Markdown object>"
      ]
     },
     "metadata": {},
     "output_type": "display_data"
    }
   ],
   "source": [
    "display(Markdown(result.choices[0].message.content))"
   ]
  },
  {
   "cell_type": "markdown",
   "metadata": {},
   "source": [
    "#### Attempts to extract the file name from a document, create an abstract file name, and write the abstract to a file. If an error occurs, it prints the error message and re-raises the exception."
   ]
  },
  {
   "cell_type": "code",
   "execution_count": 8,
   "metadata": {},
   "outputs": [
    {
     "name": "stdout",
     "output_type": "stream",
     "text": [
      "Saved the abstract to abstracts/abstract_s41586-024-07701-9.md\n"
     ]
    }
   ],
   "source": [
    "try:\n",
    "    file_name_without_extension = os.path.splitext(os.path.basename(document))[0]\n",
    "    abstract_file_name = f\"abstract_{file_name_without_extension}.md\"\n",
    "    write_abstract_to_file(result.choices[0].message.content, abstract_file_name)\n",
    "    print(f\"Saved the abstract to abstracts/{abstract_file_name}\")\n",
    "except Exception as error:\n",
    "    print(f\"An error occurred: {error}\")\n",
    "    raise"
   ]
  }
 ],
 "metadata": {
  "kernelspec": {
   "display_name": ".venv",
   "language": "python",
   "name": "python3"
  },
  "language_info": {
   "codemirror_mode": {
    "name": "ipython",
    "version": 3
   },
   "file_extension": ".py",
   "mimetype": "text/x-python",
   "name": "python",
   "nbconvert_exporter": "python",
   "pygments_lexer": "ipython3",
   "version": "3.12.2"
  }
 },
 "nbformat": 4,
 "nbformat_minor": 2
}
